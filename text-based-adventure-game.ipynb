{
 "cells": [
  {
   "cell_type": "code",
   "execution_count": null,
   "id": "e78095ea",
   "metadata": {},
   "outputs": [
    {
     "name": "stdout",
     "output_type": "stream",
     "text": [
      "Welcome to the Text-Based Adventure Game!\n",
      "You find yourself standing in front of a mysterious cave.\n",
      "Do you want to enter the cave? (yes/no)\n"
     ]
    }
   ],
   "source": [
    "def start_game():\n",
    "    print(\"Welcome to the Text-Based Adventure Game!\")\n",
    "    print(\"You find yourself standing in front of a mysterious cave.\")\n",
    "    print(\"Do you want to enter the cave? (yes/no)\")\n",
    "    choice = input().lower()\n",
    "    \n",
    "    if choice == \"yes\":\n",
    "        cave()\n",
    "    elif choice == \"no\":\n",
    "        print(\"You decide not to enter the cave. The adventure ends here.\")\n",
    "    else:\n",
    "        print(\"Invalid choice. Please enter 'yes' or 'no'.\")\n",
    "        start_game()\n",
    "\n",
    "def cave():\n",
    "    print(\"You enter the cave and see two paths: left and right.\")\n",
    "    print(\"Which path do you choose? (left/right)\")\n",
    "    choice = input().lower()\n",
    "    \n",
    "    if choice == \"left\":\n",
    "        print(\"You encounter a treasure chest! Congratulations, you've found a valuable artifact.\")\n",
    "        print(\"Do you want to continue exploring the cave? (yes/no)\")\n",
    "        choice = input().lower()\n",
    "        if choice == \"yes\":\n",
    "            continue_exploring()\n",
    "        elif choice == \"no\":\n",
    "            print(\"You decide to leave the cave with your treasure. The adventure ends here.\")\n",
    "        else:\n",
    "            print(\"Invalid choice. Please enter 'yes' or 'no'.\")\n",
    "            cave()\n",
    "    elif choice == \"right\":\n",
    "        print(\"You encounter a fierce dragon! You must fight for your life.\")\n",
    "        fight_dragon()\n",
    "    else:\n",
    "        print(\"Invalid choice. Please enter 'left' or 'right'.\")\n",
    "        cave()\n",
    "\n",
    "def continue_exploring():\n",
    "    print(\"As you continue exploring, you find a hidden passage.\")\n",
    "    print(\"Do you want to enter the passage? (yes/no)\")\n",
    "    choice = input().lower()\n",
    "    \n",
    "    if choice == \"yes\":\n",
    "        print(\"You discover a secret chamber filled with gold!\")\n",
    "        print(\"Congratulations, you've become rich. The adventure ends here.\")\n",
    "    elif choice == \"no\":\n",
    "        print(\"You decide to leave the passage unexplored. The adventure ends here.\")\n",
    "    else:\n",
    "        print(\"Invalid choice. Please enter 'yes' or 'no'.\")\n",
    "        continue_exploring()\n",
    "\n",
    "def fight_dragon():\n",
    "    print(\"You must decide how to approach the dragon:\")\n",
    "    print(\"1. Attack with your sword\")\n",
    "    print(\"2. Try to reason with the dragon\")\n",
    "    choice = input()\n",
    "    \n",
    "    if choice == \"1\":\n",
    "        print(\"You engage in a fierce battle with the dragon.\")\n",
    "        print(\"You manage to defeat the dragon and emerge victorious!\")\n",
    "        continue_exploring()\n",
    "    elif choice == \"2\":\n",
    "        print(\"You attempt to reason with the dragon, but it's too enraged to listen.\")\n",
    "        print(\"You have no choice but to fight.\")\n",
    "        fight_dragon()\n",
    "    else:\n",
    "        print(\"Invalid choice. Please enter '1' or '2'.\")\n",
    "        fight_dragon()\n",
    "\n",
    "start_game()"
   ]
  },
  {
   "cell_type": "code",
   "execution_count": null,
   "id": "87878f5b",
   "metadata": {},
   "outputs": [],
   "source": []
  }
 ],
 "metadata": {
  "kernelspec": {
   "display_name": "Python 3 (ipykernel)",
   "language": "python",
   "name": "python3"
  },
  "language_info": {
   "codemirror_mode": {
    "name": "ipython",
    "version": 3
   },
   "file_extension": ".py",
   "mimetype": "text/x-python",
   "name": "python",
   "nbconvert_exporter": "python",
   "pygments_lexer": "ipython3",
   "version": "3.11.5"
  }
 },
 "nbformat": 4,
 "nbformat_minor": 5
}
